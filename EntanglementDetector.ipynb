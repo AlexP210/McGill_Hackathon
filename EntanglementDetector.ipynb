{
 "metadata": {
  "language_info": {
   "codemirror_mode": {
    "name": "ipython",
    "version": 3
   },
   "file_extension": ".py",
   "mimetype": "text/x-python",
   "name": "python",
   "nbconvert_exporter": "python",
   "pygments_lexer": "ipython3",
   "version": 3
  },
  "orig_nbformat": 2
 },
 "nbformat": 4,
 "nbformat_minor": 2,
 "cells": [
  {
   "source": [
    "# IQC Entanglement Test Challenge\n",
    "Submission by: Alex Pleava"
   ],
   "cell_type": "markdown",
   "metadata": {}
  },
  {
   "source": [
    "## Background Information\n",
    "\n",
    "### What are Quantum States?\n",
    "In the quantum world, all particles behave as waves, and are therefore described by wavefunctions. This is a mathematical function that describes the wave - think of f(x)=sin(x)). These wavefunctions are solutions to the __Schrodinger Wave Equation__, which is a partial differential equation. We say \"solutions\" (as in plural) because usually there are many wavefunctions that satisfy the SWE for a given particle. Due to the nature of linear differential equations (of which the SWE is an example), a __linear combination__ of any set of wavefunctions is also a solution to the SWE, and therefore also a wavefunction. The \"state\" of a quantum particle is the specific linear combination of wavefunctions that describes it's state.\n",
    "\n",
    "### Developing a Mathematical Framework\n",
    "So far, we know that linear combinations of wavefunctions are also wavefunctions. Thanfully, there's a whole field of math that studies things that behave like this, called linear algebra.\n"
   ],
   "cell_type": "markdown",
   "metadata": {}
  },
  {
   "cell_type": "code",
   "execution_count": null,
   "metadata": {},
   "outputs": [],
   "source": []
  }
 ]
}